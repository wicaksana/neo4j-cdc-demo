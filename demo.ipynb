{
 "cells": [
  {
   "cell_type": "code",
   "execution_count": null,
   "metadata": {},
   "outputs": [],
   "source": [
    "%pip install neo4j python-dotenv"
   ]
  },
  {
   "cell_type": "code",
   "execution_count": null,
   "metadata": {},
   "outputs": [],
   "source": [
    "from dotenv import load_dotenv\n",
    "from neo4j import GraphDatabase\n",
    "import os\n",
    "import json\n",
    "import time\n",
    "from threading import Thread\n",
    "\n",
    "load_dotenv()"
   ]
  },
  {
   "cell_type": "code",
   "execution_count": null,
   "metadata": {},
   "outputs": [],
   "source": [
    "user = os.getenv('NEO4J_USER')\n",
    "password = os.getenv('NEO4J_PASSWORD')\n",
    "uri = os.getenv('NEO4J_URI')\n",
    "database = os.getenv('NEO4J_DB')"
   ]
  },
  {
   "cell_type": "code",
   "execution_count": null,
   "metadata": {},
   "outputs": [],
   "source": [
    "class CDCService:\n",
    "    def __init__(self, driver, database, start_cursor=None, selectors=None):\n",
    "        self.driver = driver\n",
    "        self.database = database\n",
    "        self.cursor = start_cursor\n",
    "        if self.cursor is None:\n",
    "            self.cursor = self.current_change_id()\n",
    "        self.selectors = selectors\n",
    "\n",
    "    def apply_change(self, record):\n",
    "        record_dict = {\n",
    "            k: record.get(k) for k in ('id', 'txId', 'seq', 'event', 'metadata')\n",
    "        }\n",
    "        print(json.dumps(record_dict, indent=2, default=repr))\n",
    "    \n",
    "    def query_changes_query(self, tx):\n",
    "        current = self.current_change_id()\n",
    "        result = tx.run('CALL db.cdc.query($cursor, $selectors)',\n",
    "                        cursor=self.cursor, selectors=self.selectors)\n",
    "        if result.peek() == None:\n",
    "            self.cursor = current\n",
    "        else:\n",
    "            for record in result:\n",
    "                try:\n",
    "                    self.apply_change(record)\n",
    "                except Exception as e:\n",
    "                    print('Error whilst applying change', e)\n",
    "                    break\n",
    "                self.cursor = record['id']\n",
    "    \n",
    "    def query_changes(self):\n",
    "        with self.driver.session(database=self.database) as session:\n",
    "            session.execute_read(self.query_changes_query)\n",
    "    \n",
    "    def earliest_change_id(self):\n",
    "        records, _,_ = self.driver.execute_query(\n",
    "            'CALL db.cdc.earliest', \n",
    "            database_=self.database\n",
    "        )\n",
    "        return records[0]['id']\n",
    "    \n",
    "    def current_change_id(self):\n",
    "        records, _,_ = self.driver.execute_query(\n",
    "            'CALL db.cdc.current', \n",
    "            database_=self.database\n",
    "        )\n",
    "        return records[0]['id']\n",
    "    \n",
    "    def run(self):\n",
    "        while True:\n",
    "            self.query_changes()\n",
    "            time.sleep(1)"
   ]
  },
  {
   "cell_type": "code",
   "execution_count": null,
   "metadata": {},
   "outputs": [],
   "source": [
    "cursor = None\n",
    "selectors = []\n",
    "\n",
    "with GraphDatabase.driver(uri, auth=(user, password)) as driver:\n",
    "    driver.verify_connectivity()\n",
    "    cdc = CDCService(driver, database, cursor, selectors)\n",
    "    \n",
    "    cdc_thread = Thread(target=cdc.run, daemon=True)\n",
    "    cdc_thread.start()\n",
    "    cdc_thread.join()"
   ]
  }
 ],
 "metadata": {
  "kernelspec": {
   "display_name": ".venv",
   "language": "python",
   "name": "python3"
  },
  "language_info": {
   "codemirror_mode": {
    "name": "ipython",
    "version": 3
   },
   "file_extension": ".py",
   "mimetype": "text/x-python",
   "name": "python",
   "nbconvert_exporter": "python",
   "pygments_lexer": "ipython3",
   "version": "3.12.3"
  }
 },
 "nbformat": 4,
 "nbformat_minor": 2
}
